{
 "cells": [
  {
   "cell_type": "code",
   "execution_count": 1,
   "id": "cce9c69c",
   "metadata": {},
   "outputs": [
    {
     "name": "stdout",
     "output_type": "stream",
     "text": [
      "Yaşınızı girin: 19\n",
      "Cinsiyet (Erkek için 1, Kadın için 2): 2\n",
      "Kan Basıncınızı girin: 13\n",
      "Kalp Atış Hızınızı girin: 24\n",
      "Diyabet (Var ise 1, Yok ise 2): 2\n",
      "TIMI Risk Skoru: 60\n"
     ]
    }
   ],
   "source": [
    "# Kullanıcıdan parametreleri alan ve TIMI Risk Skoru hesaplayan geleneksel kod\n",
    "\n",
    "try:\n",
    "    yas = int(input(\"Yaşınızı girin: \"))\n",
    "    cinsiyet = int(input(\"Cinsiyet (Erkek için 1, Kadın için 2): \"))\n",
    "    kan_basinci = int(input(\"Kan Basıncınızı girin: \"))\n",
    "    kalp_atis_hizi = int(input(\"Kalp Atış Hızınızı girin: \"))\n",
    "    diyabet = int(input(\"Diyabet (Var ise 1, Yok ise 2): \"))\n",
    "    \n",
    "    timi_skor = 0\n",
    "    timi_skor += yas + cinsiyet + kan_basinci + kalp_atis_hizi + diyabet\n",
    "    \n",
    "    print(\"TIMI Risk Skoru:\", timi_skor)\n",
    "    \n",
    "except ValueError:\n",
    "    print(\"Geçersiz giriş. Lütfen sayısal değerler girin.\")"
   ]
  },
  {
   "cell_type": "code",
   "execution_count": 2,
   "id": "ab5d151f",
   "metadata": {},
   "outputs": [
    {
     "name": "stdout",
     "output_type": "stream",
     "text": [
      "Yaşınızı girin: 19\n",
      "Cinsiyet (Erkek için 1, Kadın için 2): 2\n",
      "Kan Basıncınızı girin: 13\n",
      "Kalp Atış Hızınızı girin: 23\n",
      "Diyabet (Var ise 1, Yok ise 2): 1\n",
      "TIMI Risk Skoru: 58\n"
     ]
    }
   ],
   "source": [
    "def hesapla_TIMI_Risk_Skoru(yas, cinsiyet, kan_basinci, kalp_atis_hizi, diyabet):\n",
    "    try:\n",
    "        timi_skor = yas + cinsiyet + kan_basinci + kalp_atis_hizi + diyabet\n",
    "        return timi_skor\n",
    "    except ValueError:\n",
    "        return \"Geçersiz giriş. Lütfen sayısal değerler girin.\"\n",
    "\n",
    "yas = int(input(\"Yaşınızı girin: \"))\n",
    "cinsiyet = int(input(\"Cinsiyet (Erkek için 1, Kadın için 2): \"))\n",
    "kan_basinci = int(input(\"Kan Basıncınızı girin: \"))\n",
    "kalp_atis_hizi = int(input(\"Kalp Atış Hızınızı girin: \"))\n",
    "diyabet = int(input(\"Diyabet (Var ise 1, Yok ise 2): \"))\n",
    "\n",
    "sonuc = hesapla_TIMI_Risk_Skoru(yas, cinsiyet, kan_basinci, kalp_atis_hizi, diyabet)\n",
    "print(\"TIMI Risk Skoru:\", sonuc)"
   ]
  },
  {
   "cell_type": "code",
   "execution_count": 3,
   "id": "73c5da53",
   "metadata": {},
   "outputs": [],
   "source": [
    "import tkinter as tk\n",
    "\n",
    "def hesapla():\n",
    "    try:\n",
    "        yas = int(entry_yas.get())\n",
    "        cinsiyet = int(entry_cinsiyet.get())\n",
    "        kan_basinci = int(entry_kan_basinci.get())\n",
    "        kalp_atis_hizi = int(entry_kalp_atis_hizi.get())\n",
    "        diyabet = int(entry_diyabet.get())\n",
    "        \n",
    "        timi_skor = yas + cinsiyet + kan_basinci + kalp_atis_hizi + diyabet\n",
    "        label_sonuc[\"text\"] = \"TIMI Risk Skoru: \" + str(timi_skor)\n",
    "    except ValueError:\n",
    "        label_sonuc[\"text\"] = \"Geçersiz giriş. Lütfen sayısal değerler girin.\"\n",
    "\n",
    "root = tk.Tk()\n",
    "root.title(\"TIMI Risk Skoru Hesaplama\")\n",
    "\n",
    "ogrenci_bilgisi = \"Öğrenci Bilgileri:\\nAd Soyad: [Adınız Soyadınız]\\nNumara: [Öğrenci Numaranız]\"\n",
    "konu_aciklamasi = \"TIMI Risk Skoru, akut koroner sendrom (ACS) hastalarının risk düzeylerini belirlemek için kullanılan bir ölçüttür.\"\n",
    "\n",
    "label_ogrenci = tk.Label(root, text=ogrenci_bilgisi)\n",
    "label_ogrenci.pack()\n",
    "\n",
    "label_konu = tk.Label(root, text=konu_aciklamasi)\n",
    "label_konu.pack()\n",
    "\n",
    "label_yas = tk.Label(root, text=\"Yaşınızı girin:\")\n",
    "label_yas.pack()\n",
    "entry_yas = tk.Entry(root)\n",
    "entry_yas.pack()\n",
    "\n",
    "label_cinsiyet = tk.Label(root, text=\"Cinsiyet (Erkek için 1, Kadın için 2):\")\n",
    "label_cinsiyet.pack()\n",
    "entry_cinsiyet = tk.Entry(root)\n",
    "entry_cinsiyet.pack()\n",
    "\n",
    "label_kan_basinci = tk.Label(root, text=\"Kan Basıncınızı girin:\")\n",
    "label_kan_basinci.pack()\n",
    "entry_kan_basinci = tk.Entry(root)\n",
    "entry_kan_basinci.pack()\n",
    "\n",
    "label_kalp_atis_hizi = tk.Label(root, text=\"Kalp Atış Hızınızı girin:\")\n",
    "label_kalp_atis_hizi.pack()\n",
    "entry_kalp_atis_hizi = tk.Entry(root)\n",
    "entry_kalp_atis_hizi.pack()\n",
    "\n",
    "label_diyabet = tk.Label(root, text=\"Diyabet (Var ise 1, Yok ise 2):\")\n",
    "label_diyabet.pack()\n",
    "entry_diyabet = tk.Entry(root)\n",
    "entry_diyabet.pack()\n",
    "\n",
    "button_hesapla = tk.Button(root, text=\"Hesapla\", command=hesapla)\n",
    "button_hesapla.pack()\n",
    "\n",
    "label_sonuc = tk.Label(root, text=\"\")\n",
    "label_sonuc.pack()\n",
    "\n",
    "root.mainloop()\n"
   ]
  },
  {
   "cell_type": "code",
   "execution_count": null,
   "id": "e298e7d8",
   "metadata": {},
   "outputs": [],
   "source": []
  }
 ],
 "metadata": {
  "kernelspec": {
   "display_name": "Python 3 (ipykernel)",
   "language": "python",
   "name": "python3"
  },
  "language_info": {
   "codemirror_mode": {
    "name": "ipython",
    "version": 3
   },
   "file_extension": ".py",
   "mimetype": "text/x-python",
   "name": "python",
   "nbconvert_exporter": "python",
   "pygments_lexer": "ipython3",
   "version": "3.11.5"
  }
 },
 "nbformat": 4,
 "nbformat_minor": 5
}
